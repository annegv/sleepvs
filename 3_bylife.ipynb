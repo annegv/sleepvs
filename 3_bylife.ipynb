{
 "cells": [
  {
   "cell_type": "code",
   "execution_count": 63,
   "id": "3f359310",
   "metadata": {},
   "outputs": [],
   "source": [
    "import pandas as pd\n",
    "import numpy as np\n",
    "import datetime\n",
    "import matplotlib.pyplot as plt\n",
    "import matplotlib.patches as mpatches\n",
    "\n",
    "plt.rcParams['font.sans-serif'] = \"Karla\"\n",
    "plt.rcParams['font.family'] = \"sans-serif\""
   ]
  },
  {
   "cell_type": "code",
   "execution_count": 2,
   "id": "785d3517",
   "metadata": {},
   "outputs": [],
   "source": [
    "sleep = pd.read_csv('sleep_cleaned.csv')"
   ]
  },
  {
   "cell_type": "code",
   "execution_count": 8,
   "id": "f50ae2e4",
   "metadata": {},
   "outputs": [],
   "source": [
    "sleep = sleep[['tracking_start', 'tracking_end', 'quality']]\n",
    "sleep['tracking_start'] = pd.to_datetime(sleep['tracking_start'])\n",
    "sleep['tracking_end'] = pd.to_datetime(sleep['tracking_end'])"
   ]
  },
  {
   "cell_type": "code",
   "execution_count": 18,
   "id": "beaf4228",
   "metadata": {},
   "outputs": [],
   "source": [
    "junior_spr = sleep[sleep['tracking_start'].dt.date < datetime.date(2020, 6, 15)]\n",
    "junior_sum = sleep[sleep['tracking_start'].dt.date < datetime.date(2020, 9, 1)]\n",
    "senior_fall = sleep[sleep['tracking_start'].dt.date < datetime.date(2020, 12, 15)]\n",
    "senior_spr = sleep[sleep['tracking_start'].dt.date < datetime.date(2021, 6, 15)]\n",
    "senior_sum = sleep[sleep['tracking_start'].dt.date < datetime.date(2021, 8, 15)]\n",
    "frosh_fall = sleep[sleep['tracking_start'].dt.date < datetime.date(2021, 12, 20)]\n",
    "frosh_iap = sleep[sleep['tracking_start'].dt.date < datetime.date(2022, 1, 31)]\n",
    "frosh_spr = sleep[sleep['tracking_start'].dt.date < datetime.date(2022, 6, 20)]"
   ]
  },
  {
   "cell_type": "code",
   "execution_count": 19,
   "id": "2f45eadb",
   "metadata": {},
   "outputs": [],
   "source": [
    "junior_sum = sleep[sleep['tracking_start'].dt.date > datetime.date(2020, 6, 15)]\n",
    "senior_fall = sleep[sleep['tracking_start'].dt.date > datetime.date(2020, 9, 1)]\n",
    "senior_spr = sleep[sleep['tracking_start'].dt.date > datetime.date(2020, 12, 15)]\n",
    "senior_sum = sleep[sleep['tracking_start'].dt.date > datetime.date(2021, 6, 15)]\n",
    "frosh_fall = sleep[sleep['tracking_start'].dt.date > datetime.date(2021, 8, 15)]\n",
    "frosh_iap = sleep[sleep['tracking_start'].dt.date > datetime.date(2021, 12, 20)]\n",
    "frosh_spr = sleep[sleep['tracking_start'].dt.date > datetime.date(2022, 1, 31)]"
   ]
  },
  {
   "cell_type": "code",
   "execution_count": 24,
   "id": "f34a64b6",
   "metadata": {},
   "outputs": [],
   "source": [
    "junior_spr_avg = junior_spr['quality'].mean()\n",
    "junior_sum_avg = junior_sum['quality'].mean()\n",
    "senior_fall_avg = senior_fall['quality'].mean()\n",
    "senior_spr_avg = senior_spr['quality'].mean()\n",
    "senior_sum_avg = senior_sum['quality'].mean()\n",
    "frosh_fall_avg = frosh_fall['quality'].mean()\n",
    "frosh_iap_avg = frosh_iap['quality'].mean()\n",
    "frosh_spr_avg = frosh_spr['quality'].mean()"
   ]
  },
  {
   "cell_type": "code",
   "execution_count": 25,
   "id": "142b10ba",
   "metadata": {},
   "outputs": [],
   "source": [
    "time_periods = [\"spring '20\", \"summer '20\", \"fall '20\", \"spring '21\", \n",
    "                \"summer '21\", \"fall '21\", \"winter '22\", \"spring '22\"]\n",
    "averages = [junior_spr_avg, junior_sum_avg, senior_fall_avg, senior_spr_avg,\n",
    "           senior_sum_avg, frosh_fall_avg, frosh_iap_avg, frosh_spr_avg]"
   ]
  },
  {
   "cell_type": "code",
   "execution_count": 26,
   "id": "34dffe40",
   "metadata": {},
   "outputs": [
    {
     "data": {
      "text/html": [
       "<div>\n",
       "<style scoped>\n",
       "    .dataframe tbody tr th:only-of-type {\n",
       "        vertical-align: middle;\n",
       "    }\n",
       "\n",
       "    .dataframe tbody tr th {\n",
       "        vertical-align: top;\n",
       "    }\n",
       "\n",
       "    .dataframe thead th {\n",
       "        text-align: right;\n",
       "    }\n",
       "</style>\n",
       "<table border=\"1\" class=\"dataframe\">\n",
       "  <thead>\n",
       "    <tr style=\"text-align: right;\">\n",
       "      <th></th>\n",
       "      <th>time periods</th>\n",
       "      <th>averages</th>\n",
       "    </tr>\n",
       "  </thead>\n",
       "  <tbody>\n",
       "    <tr>\n",
       "      <th>0</th>\n",
       "      <td>spring '20</td>\n",
       "      <td>0.821615</td>\n",
       "    </tr>\n",
       "    <tr>\n",
       "      <th>1</th>\n",
       "      <td>summer '20</td>\n",
       "      <td>0.725478</td>\n",
       "    </tr>\n",
       "    <tr>\n",
       "      <th>2</th>\n",
       "      <td>fall '20</td>\n",
       "      <td>0.712802</td>\n",
       "    </tr>\n",
       "    <tr>\n",
       "      <th>3</th>\n",
       "      <td>spring '21</td>\n",
       "      <td>0.697263</td>\n",
       "    </tr>\n",
       "    <tr>\n",
       "      <th>4</th>\n",
       "      <td>summer '21</td>\n",
       "      <td>0.653088</td>\n",
       "    </tr>\n",
       "    <tr>\n",
       "      <th>5</th>\n",
       "      <td>fall '21</td>\n",
       "      <td>0.643744</td>\n",
       "    </tr>\n",
       "    <tr>\n",
       "      <th>6</th>\n",
       "      <td>winter '22</td>\n",
       "      <td>0.646119</td>\n",
       "    </tr>\n",
       "    <tr>\n",
       "      <th>7</th>\n",
       "      <td>spring '22</td>\n",
       "      <td>0.637917</td>\n",
       "    </tr>\n",
       "  </tbody>\n",
       "</table>\n",
       "</div>"
      ],
      "text/plain": [
       "  time periods  averages\n",
       "0   spring '20  0.821615\n",
       "1   summer '20  0.725478\n",
       "2     fall '20  0.712802\n",
       "3   spring '21  0.697263\n",
       "4   summer '21  0.653088\n",
       "5     fall '21  0.643744\n",
       "6   winter '22  0.646119\n",
       "7   spring '22  0.637917"
      ]
     },
     "execution_count": 26,
     "metadata": {},
     "output_type": "execute_result"
    }
   ],
   "source": [
    "time_avgs = pd.DataFrame(list(zip(time_periods, averages)), columns =['time periods', 'averages'])\n",
    "time_avgs"
   ]
  },
  {
   "cell_type": "code",
   "execution_count": 73,
   "id": "d15c7354",
   "metadata": {},
   "outputs": [
    {
     "data": {
      "image/png": "[encoded data removed]",
      "text/plain": [
       "<Figure size 800x600 with 1 Axes>"
      ]
     },
     "metadata": {},
     "output_type": "display_data"
    }
   ],
   "source": [
    "fig, ax = plt.subplots(figsize=(8, 6))\n",
    "\n",
    "color_1 = mpatches.Patch(color = '#a6c99d', label = 'spring semester')\n",
    "color_2 = mpatches.Patch(color = '#a298b3', label = 'holiday')\n",
    "color_3 = mpatches.Patch(color = '#d9b498', label = 'fall semester')\n",
    "ax.legend(title = 'life season', handles = [color_1, color_2, color_3])\n",
    "\n",
    "bar_colors = ['#a6c99d', '#a298b3', '#d9b498', '#a6c99d', '#a298b3', '#d9b498', '#a298b3', '#a6c99d']\n",
    "ax.bar(time_avgs['time periods'], time_avgs['averages'], color = bar_colors)\n",
    "\n",
    "\n",
    "ax.set_xlabel('TIME PERIOD IN MY LIFE')\n",
    "ax.set_ylabel('AVERAGE SLEEP QUALITY')\n",
    "ax.set_title('average sleep quality across seasons')\n",
    "\n",
    "#plt.show()\n",
    "\n",
    "plt.savefig('sleepqualvsseason.png', dpi = 300, bbox_inches='tight')"
   ]
  },
  {
   "cell_type": "code",
   "execution_count": null,
   "id": "dda9e9ef",
   "metadata": {},
   "outputs": [],
   "source": []
  }
 ],
 "metadata": {
  "kernelspec": {
   "display_name": "Python 3 (ipykernel)",
   "language": "python",
   "name": "python3"
  },
  "language_info": {
   "codemirror_mode": {
    "name": "ipython",
    "version": 3
   },
   "file_extension": ".py",
   "mimetype": "text/x-python",
   "name": "python",
   "nbconvert_exporter": "python",
   "pygments_lexer": "ipython3",
   "version": "3.9.13"
  }
 },
 "nbformat": 4,
 "nbformat_minor": 5
}
