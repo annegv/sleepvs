{
 "cells": [
  {
   "cell_type": "code",
   "execution_count": null,
   "id": "fccb9efb",
   "metadata": {},
   "outputs": [],
   "source": [
    "# reference: https://towardsdatascience.com/web-scraping-basics-82f8b5acd45c\n",
    "# scraped from: https://www.weather.gov/wrh/Climate?wfo=sew"
   ]
  },
  {
   "cell_type": "code",
   "execution_count": 25,
   "id": "96b77e7e",
   "metadata": {},
   "outputs": [],
   "source": [
    "import json\n",
    "import requests"
   ]
  },
  {
   "cell_type": "code",
   "execution_count": 32,
   "id": "c8281ae9",
   "metadata": {},
   "outputs": [],
   "source": [
    "s = requests.session()\n",
    "#API url\n",
    "url_search = 'https://data.rcc-acis.org/StnData'\n",
    "#header for the post request\n",
    "headers = {'user-agent': 'Mozilla/5.0 (Macintosh; Intel Mac OS X 10_15_7) AppleWebKit/537.36 (KHTML, like Gecko) Chrome/109.0.0.0 Safari/537.36'}\n",
    "#payload for the request form\n",
    "payload = {\n",
    "    \"params\": '{\"elems\":[{\"name\":\"maxt\",\"add\":\"t\"},{\"name\":\"mint\",\"add\":\"t\"},{\"name\":\"avgt\",\"add\":\"t\"},{\"name\":\"avgt\",\"normal\":\"departure91\",\"add\":\"t\"},{\"name\":\"hdd\",\"add\":\"t\"},{\"name\":\"cdd\",\"add\":\"t\"},{\"name\":\"pcpn\",\"add\":\"t\"},{\"name\":\"snow\",\"add\":\"t\"},{\"name\":\"snwd\",\"add\":\"t\"}],\"sid\":\"OLMthr\",\"sDate\":\"2022-12-01\",\"eDate\":\"2022-12-31\"}',\n",
    "    \"output\": \"json\",\n",
    "}\n",
    "req = s.post(url_search, headers = headers, data = payload)"
   ]
  },
  {
   "cell_type": "code",
   "execution_count": 33,
   "id": "310b604b",
   "metadata": {},
   "outputs": [
    {
     "data": {
      "text/plain": [
       "200"
      ]
     },
     "execution_count": 33,
     "metadata": {},
     "output_type": "execute_result"
    }
   ],
   "source": [
    "req.status_code"
   ]
  },
  {
   "cell_type": "code",
   "execution_count": 34,
   "id": "57163b2b",
   "metadata": {},
   "outputs": [],
   "source": [
    "#read the data back as json file\n",
    "j = req.json()"
   ]
  },
  {
   "cell_type": "code",
   "execution_count": null,
   "id": "1d5ef36e",
   "metadata": {},
   "outputs": [],
   "source": []
  }
 ],
 "metadata": {
  "kernelspec": {
   "display_name": "Python 3 (ipykernel)",
   "language": "python",
   "name": "python3"
  },
  "language_info": {
   "codemirror_mode": {
    "name": "ipython",
    "version": 3
   },
   "file_extension": ".py",
   "mimetype": "text/x-python",
   "name": "python",
   "nbconvert_exporter": "python",
   "pygments_lexer": "ipython3",
   "version": "3.9.13"
  }
 },
 "nbformat": 4,
 "nbformat_minor": 5
}
