{
 "cells": [
  {
   "cell_type": "code",
   "execution_count": 57,
   "id": "ff847f64",
   "metadata": {},
   "outputs": [],
   "source": [
    "import pandas as pd\n",
    "from datetime import datetime\n",
    "import matplotlib.pyplot as plt\n",
    "import numpy as np\n",
    "\n",
    "plt.rcParams['font.sans-serif'] = \"Karla\"\n",
    "plt.rcParams['font.family'] = \"sans-serif\""
   ]
  },
  {
   "cell_type": "code",
   "execution_count": 13,
   "id": "bc683d2a",
   "metadata": {},
   "outputs": [],
   "source": [
    "def to_float(val):\n",
    "   return float(val.replace(\"%\", \"\"))/100"
   ]
  },
  {
   "cell_type": "code",
   "execution_count": 14,
   "id": "c4a824b9",
   "metadata": {},
   "outputs": [],
   "source": [
    "sleep = pd.read_csv(\"sleepdata.csv\", sep = \";\")\n",
    "sleep = sleep.drop(columns=[\"Mood\", \"Heart rate (bpm)\", \"City\", \"Did snore\", \"Snore time\", \n",
    "                            \"Weather temperature (°F)\", \"Weather type\", \"Notes\", \"Window start\", \"Window stop\"])\n",
    "sleep['Start'] = pd.to_datetime(sleep['Start'])\n",
    "sleep['End'] = pd.to_datetime(sleep['End'])\n",
    "sleep = sleep.rename(columns={\"Start\": \"tracking_start\", \"End\": \"tracking_end\", \n",
    "                             \"Sleep Quality\": \"quality\", \"Regularity\": \"regularity\",\n",
    "                             \"Steps\": \"day_steps\", \"Alarm mode\": \"alarm\", \"Air Pressure (Pa)\": \"air_pressure\",\n",
    "                             \"Movements per hour\": \"movements_per_hr\", \"Time in bed (seconds)\": \"time_total\",\n",
    "                             \"Time asleep (seconds)\": \"time_asleep\", \"Time before sleep (seconds)\": \"time_presleep\"})\n",
    "\n",
    "sleep[\"quality\"] = sleep[\"quality\"].apply(to_float)\n",
    "sleep[\"regularity\"] = sleep[\"regularity\"].apply(to_float)"
   ]
  },
  {
   "cell_type": "code",
   "execution_count": 15,
   "id": "ddd46263",
   "metadata": {},
   "outputs": [],
   "source": [
    "sleepqual = sleep.drop(columns=[\"tracking_end\", \"regularity\", \"day_steps\", \"alarm\", \"air_pressure\", \n",
    "                            \"movements_per_hr\", \"time_total\", \"time_asleep\", \"time_presleep\"])\n",
    "sleepqual[\"year\"] = sleepqual[\"tracking_start\"].dt.year\n",
    "sleepqual[\"month\"] = sleepqual[\"tracking_start\"].dt.month\n",
    "sleepqual[\"day\"] = sleepqual[\"tracking_start\"].dt.day\n",
    "sleepqual = sleepqual.drop(columns=[\"tracking_start\"])\n",
    "sleepqual['date'] = pd.to_datetime(dict(year = sleepqual.year, month = sleepqual.month, day = sleepqual.day))"
   ]
  },
  {
   "cell_type": "code",
   "execution_count": 17,
   "id": "e67177cc",
   "metadata": {},
   "outputs": [],
   "source": [
    "sleepqual.to_csv(\"sleep_cleaned.csv\")"
   ]
  },
  {
   "cell_type": "code",
   "execution_count": 18,
   "id": "4133a415",
   "metadata": {},
   "outputs": [],
   "source": [
    "seattle = pd.read_csv(\"seattle_cleaned.csv\")\n",
    "boston = pd.read_csv(\"boston_cleaned.csv\")\n",
    "sleep = pd.read_csv(\"sleep_cleaned.csv\")"
   ]
  },
  {
   "cell_type": "code",
   "execution_count": 28,
   "id": "b97d1201",
   "metadata": {},
   "outputs": [],
   "source": [
    "seattle = seattle.rename(columns={'TMIN': 'seattle_min', 'DATE': 'date'})\n",
    "boston = boston.rename(columns={'TMIN': 'boston_min', 'DATE': 'date'})"
   ]
  },
  {
   "cell_type": "code",
   "execution_count": 30,
   "id": "56861e22",
   "metadata": {},
   "outputs": [],
   "source": [
    "sleep = sleep[['quality', 'date']]\n",
    "seattle = seattle[['date', 'seattle_min']]\n",
    "boston = boston[['date', 'boston_min']]"
   ]
  },
  {
   "cell_type": "code",
   "execution_count": 40,
   "id": "2821ae41",
   "metadata": {},
   "outputs": [],
   "source": [
    "sleep_temp['date'] = pd.to_datetime(sleep_temp['date'])"
   ]
  },
  {
   "cell_type": "code",
   "execution_count": 49,
   "id": "93a4adab",
   "metadata": {},
   "outputs": [
    {
     "data": {
      "text/html": [
       "<div>\n",
       "<style scoped>\n",
       "    .dataframe tbody tr th:only-of-type {\n",
       "        vertical-align: middle;\n",
       "    }\n",
       "\n",
       "    .dataframe tbody tr th {\n",
       "        vertical-align: top;\n",
       "    }\n",
       "\n",
       "    .dataframe thead th {\n",
       "        text-align: right;\n",
       "    }\n",
       "</style>\n",
       "<table border=\"1\" class=\"dataframe\">\n",
       "  <thead>\n",
       "    <tr style=\"text-align: right;\">\n",
       "      <th></th>\n",
       "      <th>quality</th>\n",
       "      <th>date</th>\n",
       "      <th>my_temp</th>\n",
       "    </tr>\n",
       "  </thead>\n",
       "  <tbody>\n",
       "    <tr>\n",
       "      <th>0</th>\n",
       "      <td>0.65</td>\n",
       "      <td>2020-01-01</td>\n",
       "      <td>30.0</td>\n",
       "    </tr>\n",
       "    <tr>\n",
       "      <th>1</th>\n",
       "      <td>0.79</td>\n",
       "      <td>2020-01-02</td>\n",
       "      <td>26.0</td>\n",
       "    </tr>\n",
       "    <tr>\n",
       "      <th>2</th>\n",
       "      <td>0.75</td>\n",
       "      <td>2020-01-03</td>\n",
       "      <td>34.0</td>\n",
       "    </tr>\n",
       "    <tr>\n",
       "      <th>3</th>\n",
       "      <td>0.84</td>\n",
       "      <td>2020-01-04</td>\n",
       "      <td>25.0</td>\n",
       "    </tr>\n",
       "    <tr>\n",
       "      <th>4</th>\n",
       "      <td>0.76</td>\n",
       "      <td>2020-01-05</td>\n",
       "      <td>26.0</td>\n",
       "    </tr>\n",
       "    <tr>\n",
       "      <th>...</th>\n",
       "      <td>...</td>\n",
       "      <td>...</td>\n",
       "      <td>...</td>\n",
       "    </tr>\n",
       "    <tr>\n",
       "      <th>799</th>\n",
       "      <td>0.72</td>\n",
       "      <td>2022-06-14</td>\n",
       "      <td>64.0</td>\n",
       "    </tr>\n",
       "    <tr>\n",
       "      <th>800</th>\n",
       "      <td>0.78</td>\n",
       "      <td>2022-06-16</td>\n",
       "      <td>58.0</td>\n",
       "    </tr>\n",
       "    <tr>\n",
       "      <th>801</th>\n",
       "      <td>0.82</td>\n",
       "      <td>2022-06-17</td>\n",
       "      <td>67.0</td>\n",
       "    </tr>\n",
       "    <tr>\n",
       "      <th>802</th>\n",
       "      <td>0.79</td>\n",
       "      <td>2022-06-17</td>\n",
       "      <td>67.0</td>\n",
       "    </tr>\n",
       "    <tr>\n",
       "      <th>803</th>\n",
       "      <td>0.84</td>\n",
       "      <td>2022-06-18</td>\n",
       "      <td>55.0</td>\n",
       "    </tr>\n",
       "  </tbody>\n",
       "</table>\n",
       "<p>804 rows × 3 columns</p>\n",
       "</div>"
      ],
      "text/plain": [
       "     quality        date  my_temp\n",
       "0       0.65  2020-01-01     30.0\n",
       "1       0.79  2020-01-02     26.0\n",
       "2       0.75  2020-01-03     34.0\n",
       "3       0.84  2020-01-04     25.0\n",
       "4       0.76  2020-01-05     26.0\n",
       "..       ...         ...      ...\n",
       "799     0.72  2022-06-14     64.0\n",
       "800     0.78  2022-06-16     58.0\n",
       "801     0.82  2022-06-17     67.0\n",
       "802     0.79  2022-06-17     67.0\n",
       "803     0.84  2022-06-18     55.0\n",
       "\n",
       "[804 rows x 3 columns]"
      ]
     },
     "execution_count": 49,
     "metadata": {},
     "output_type": "execute_result"
    }
   ],
   "source": [
    "sleep_temp = pd.merge(sleep, seattle, on = 'date')\n",
    "sleep_temp = pd.merge(sleep_temp, boston, on = 'date')\n",
    "sleep_temp['my_temp_1'] = sleep_temp.apply(lambda x: x['seattle_min'] if x['date'] < '2021-08-24' else x['boston_min'], axis = 1) \n",
    "sleep_temp['my_temp_2'] = sleep_temp.apply(lambda x: x['my_temp_1'] if x['date'] < '2021-12-16' else x['seattle_min'], axis = 1) \n",
    "sleep_temp['my_temp'] = sleep_temp.apply(lambda x: x['my_temp_2'] if x['date'] < '2022-01-22' else x['boston_min'], axis = 1) \n",
    "sleep_temp = sleep_temp[['quality', 'date', 'my_temp']]\n",
    "sleep_temp"
   ]
  },
  {
   "cell_type": "code",
   "execution_count": 69,
   "id": "dda75e24",
   "metadata": {},
   "outputs": [
    {
     "data": {
      "image/png": "[encoded data removed]",
      "text/plain": [
       "<Figure size 500x500 with 1 Axes>"
      ]
     },
     "metadata": {},
     "output_type": "display_data"
    }
   ],
   "source": [
    "plt.figure(figsize=(5, 5))\n",
    "plt.scatter(sleep_temp['my_temp'], sleep_temp['quality'], s = 10, color = \"#685c7d\")\n",
    "\n",
    "plt.title('night temperature vs sleep quality')\n",
    "plt.xlabel('min night temperature (°F)')\n",
    "plt.ylabel('sleep quality')\n",
    "#plt.show()\n",
    "\n",
    "plt.savefig('sleepvs_nighttemp.png', dpi = 300, bbox_inches='tight')"
   ]
  },
  {
   "cell_type": "code",
   "execution_count": null,
   "id": "6966499b",
   "metadata": {},
   "outputs": [],
   "source": []
  }
 ],
 "metadata": {
  "kernelspec": {
   "display_name": "Python 3 (ipykernel)",
   "language": "python",
   "name": "python3"
  },
  "language_info": {
   "codemirror_mode": {
    "name": "ipython",
    "version": 3
   },
   "file_extension": ".py",
   "mimetype": "text/x-python",
   "name": "python",
   "nbconvert_exporter": "python",
   "pygments_lexer": "ipython3",
   "version": "3.9.13"
  }
 },
 "nbformat": 4,
 "nbformat_minor": 5
}
